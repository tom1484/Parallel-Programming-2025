{
 "cells": [
  {
   "cell_type": "code",
   "execution_count": 24,
   "id": "6a404c2a",
   "metadata": {},
   "outputs": [],
   "source": [
    "import numpy as np\n",
    "from pathlib import Path\n",
    "\n",
    "para_path = Path(\"/Users/tom1484/Git/Parallel-Programming-2025/hw2/results/kps.txt\")\n",
    "sequ_path = Path(\"/Users/tom1484/Git/sequential/hw2/results/kps.txt\")"
   ]
  },
  {
   "cell_type": "code",
   "execution_count": 25,
   "id": "a5baa7a9",
   "metadata": {},
   "outputs": [],
   "source": [
    "para_kps = np.loadtxt(para_path, dtype=float)\n",
    "sequ_kps = np.loadtxt(sequ_path, dtype=float)\n",
    "\n",
    "para_kps[:, 2:4] = np.round(para_kps[:, 2:4])\n",
    "sequ_kps[:, 2:4] = np.round(sequ_kps[:, 2:4])\n",
    "\n",
    "# para_kps = para_kps.astype(int)\n",
    "# sequ_kps = sequ_kps.astype(int)"
   ]
  },
  {
   "cell_type": "code",
   "execution_count": 26,
   "id": "074a68c1",
   "metadata": {},
   "outputs": [],
   "source": [
    "para_values = [[[] for _ in range(8)] for _ in range(8)]\n",
    "for kp in para_kps:\n",
    "    octave, scale, x, y, val = kp\n",
    "    para_values[int(octave)][int(scale)].append((int(x), int(y), val))\n",
    "\n",
    "sequ_values = [[[] for _ in range(8)] for _ in range(8)]\n",
    "for kp in sequ_kps:\n",
    "    octave, scale, x, y, val = kp\n",
    "    sequ_values[int(octave)][int(scale)].append((int(x), int(y), val))"
   ]
  },
  {
   "cell_type": "code",
   "execution_count": 27,
   "id": "d2b30ca6",
   "metadata": {},
   "outputs": [],
   "source": [
    "diffs = [[[] for _ in range(8)] for _ in range(8)]\n",
    "for i, (para_l1, sequ_l1) in enumerate(zip(para_values, sequ_values)):\n",
    "    for j, (para_l2, sequ_l2) in enumerate(zip(para_l1, sequ_l1)):\n",
    "        different = []\n",
    "        only_in_para = []\n",
    "        only_in_sequ = []\n",
    "        para_idx = 0\n",
    "        sequ_idx = 0\n",
    "        while para_idx < len(para_l2) and sequ_idx < len(sequ_l2):\n",
    "            para_kp = para_l2[para_idx]\n",
    "            sequ_kp = sequ_l2[sequ_idx]\n",
    "            if para_kp[:2] == sequ_kp[:2]:\n",
    "                para_idx += 1\n",
    "                sequ_idx += 1\n",
    "                if abs(para_kp[2] - sequ_kp[2]) > 1e-5:\n",
    "                    different.append((para_kp, sequ_kp))\n",
    "            elif para_kp < sequ_kp:\n",
    "                only_in_para.append(para_kp)\n",
    "                para_idx += 1\n",
    "            else:\n",
    "                only_in_sequ.append(sequ_kp)\n",
    "                sequ_idx += 1\n",
    "        diffs[i][j].append((different, only_in_para, only_in_sequ))"
   ]
  },
  {
   "cell_type": "code",
   "execution_count": 28,
   "id": "15b165f9",
   "metadata": {},
   "outputs": [
    {
     "name": "stdout",
     "output_type": "stream",
     "text": [
      "Octave 0, Scale 1:\n",
      "  Different values: 0\n",
      "  Only in parallel: 0\n",
      "  Only in sequential: 1\n",
      "Octave 0, Scale 2:\n",
      "  Different values: 0\n",
      "  Only in parallel: 1\n",
      "  Only in sequential: 1\n",
      "Octave 0, Scale 3:\n",
      "  Different values: 0\n",
      "  Only in parallel: 0\n",
      "  Only in sequential: 1\n",
      "Octave 0, Scale 4:\n",
      "  Different values: 0\n",
      "  Only in parallel: 1\n",
      "  Only in sequential: 1\n",
      "Octave 1, Scale 1:\n",
      "  Different values: 0\n",
      "  Only in parallel: 0\n",
      "  Only in sequential: 1\n",
      "Octave 1, Scale 3:\n",
      "  Different values: 0\n",
      "  Only in parallel: 1\n",
      "  Only in sequential: 0\n",
      "Octave 1, Scale 4:\n",
      "  Different values: 0\n",
      "  Only in parallel: 0\n",
      "  Only in sequential: 1\n",
      "Octave 2, Scale 1:\n",
      "  Different values: 0\n",
      "  Only in parallel: 1\n",
      "  Only in sequential: 1\n",
      "Octave 2, Scale 3:\n",
      "  Different values: 0\n",
      "  Only in parallel: 1\n",
      "  Only in sequential: 1\n",
      "Octave 3, Scale 1:\n",
      "  Different values: 0\n",
      "  Only in parallel: 0\n",
      "  Only in sequential: 1\n",
      "Octave 3, Scale 2:\n",
      "  Different values: 0\n",
      "  Only in parallel: 1\n",
      "  Only in sequential: 1\n",
      "Octave 3, Scale 3:\n",
      "  Different values: 0\n",
      "  Only in parallel: 0\n",
      "  Only in sequential: 1\n",
      "Octave 3, Scale 4:\n",
      "  Different values: 0\n",
      "  Only in parallel: 1\n",
      "  Only in sequential: 0\n"
     ]
    }
   ],
   "source": [
    "for i in range(8):\n",
    "    for j in range(8):\n",
    "        different, only_in_para, only_in_sequ = diffs[i][j][0]\n",
    "        len_diff = len(different)\n",
    "        len_only_in_para = len(only_in_para)\n",
    "        len_only_in_sequ = len(only_in_sequ)\n",
    "        if len_diff > 0 or len_only_in_para > 0 or len_only_in_sequ > 0:\n",
    "            print(f\"Octave {i}, Scale {j}:\")\n",
    "            print(f\"  Different values: {len_diff}\")\n",
    "            print(f\"  Only in parallel: {len_only_in_para}\")\n",
    "            print(f\"  Only in sequential: {len_only_in_sequ}\")"
   ]
  }
 ],
 "metadata": {
  "kernelspec": {
   "display_name": "hw2",
   "language": "python",
   "name": "python3"
  },
  "language_info": {
   "codemirror_mode": {
    "name": "ipython",
    "version": 3
   },
   "file_extension": ".py",
   "mimetype": "text/x-python",
   "name": "python",
   "nbconvert_exporter": "python",
   "pygments_lexer": "ipython3",
   "version": "3.12.12"
  }
 },
 "nbformat": 4,
 "nbformat_minor": 5
}
