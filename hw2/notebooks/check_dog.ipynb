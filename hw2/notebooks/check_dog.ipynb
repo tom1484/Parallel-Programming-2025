{
 "cells": [
  {
   "cell_type": "code",
   "execution_count": 10,
   "id": "6a404c2a",
   "metadata": {},
   "outputs": [],
   "source": [
    "import cv2\n",
    "import numpy as np\n",
    "from pathlib import Path\n",
    "from matplotlib import pyplot as plt\n",
    "\n",
    "para_dir = Path(\"/Users/tom1484/Git/Parallel-Programming-2025/hw2/results/tmp/\")\n",
    "sequ_dir = Path(\"/Users/tom1484/Git/sequential/hw2/results/tmp/\")"
   ]
  },
  {
   "cell_type": "code",
   "execution_count": 11,
   "id": "a5baa7a9",
   "metadata": {},
   "outputs": [],
   "source": [
    "para_images = []\n",
    "for octave_id in range(8):\n",
    "    images = []\n",
    "    for img_id in range(8):\n",
    "        img_path = para_dir / f\"dog_{octave_id}_{img_id}.txt\"\n",
    "        if img_path.exists():\n",
    "            images.append((np.loadtxt(str(img_path)) + 1.0) / 2.0 * 255.0)\n",
    "    \n",
    "    para_images.append(images)"
   ]
  },
  {
   "cell_type": "code",
   "execution_count": 12,
   "id": "7a5202a8",
   "metadata": {},
   "outputs": [],
   "source": [
    "sequ_images = []\n",
    "for octave_id in range(8):\n",
    "    images = []\n",
    "    for img_id in range(8):\n",
    "        img_path = sequ_dir / f\"dog_{octave_id}_{img_id}.txt\"\n",
    "        if img_path.exists():\n",
    "            images.append((np.loadtxt(str(img_path)) + 1.0) / 2.0 * 255.0)\n",
    "\n",
    "    sequ_images.append(images)"
   ]
  },
  {
   "cell_type": "code",
   "execution_count": 13,
   "id": "011d330f",
   "metadata": {},
   "outputs": [
    {
     "data": {
      "text/plain": [
       "((964, 1248), (964, 1248))"
      ]
     },
     "execution_count": 13,
     "metadata": {},
     "output_type": "execute_result"
    }
   ],
   "source": [
    "para_images[0][0].shape, sequ_images[0][0].shape"
   ]
  },
  {
   "cell_type": "code",
   "execution_count": 14,
   "id": "4e58778d",
   "metadata": {},
   "outputs": [],
   "source": [
    "N_OCTAVES = 8\n",
    "N_IMAGES = 7"
   ]
  },
  {
   "cell_type": "code",
   "execution_count": 15,
   "id": "87792669",
   "metadata": {},
   "outputs": [],
   "source": [
    "for octave_id in range(N_OCTAVES):\n",
    "    for img_id in range(N_IMAGES):\n",
    "        if para_images[octave_id][img_id].shape != sequ_images[octave_id][img_id].shape:\n",
    "            print(f\"Shape mismatch at octave {octave_id}, image {img_id}: para {para_images[octave_id][img_id].shape}, sequ {sequ_images[octave_id][img_id].shape}\")"
   ]
  },
  {
   "cell_type": "code",
   "execution_count": 16,
   "id": "65a7f6c8",
   "metadata": {},
   "outputs": [],
   "source": [
    "diffs = []\n",
    "for octave_id in range(N_OCTAVES):\n",
    "    octave_diffs = []\n",
    "    for img_id in range(N_IMAGES):\n",
    "        diff = cv2.absdiff(para_images[octave_id][img_id], sequ_images[octave_id][img_id])\n",
    "        octave_diffs.append(diff)\n",
    "    diffs.append(octave_diffs)\n",
    "\n",
    "for octave_id in range(N_OCTAVES):\n",
    "    for img_id in range(N_IMAGES):\n",
    "        max_diff = diffs[octave_id][img_id].max()\n",
    "        mean_diff = diffs[octave_id][img_id].mean()\n",
    "        if mean_diff > 1e-3 or max_diff > 1e-3:\n",
    "            print(f\"Octave {octave_id}, Image {img_id} differs: max={max_diff}, mean={mean_diff}\")"
   ]
  },
  {
   "cell_type": "code",
   "execution_count": null,
   "id": "4ef28076",
   "metadata": {},
   "outputs": [],
   "source": []
  }
 ],
 "metadata": {
  "kernelspec": {
   "display_name": "hw2",
   "language": "python",
   "name": "python3"
  },
  "language_info": {
   "codemirror_mode": {
    "name": "ipython",
    "version": 3
   },
   "file_extension": ".py",
   "mimetype": "text/x-python",
   "name": "python",
   "nbconvert_exporter": "python",
   "pygments_lexer": "ipython3",
   "version": "3.12.12"
  }
 },
 "nbformat": 4,
 "nbformat_minor": 5
}
