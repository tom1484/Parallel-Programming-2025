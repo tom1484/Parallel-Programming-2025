{
 "cells": [
  {
   "cell_type": "code",
   "execution_count": 1,
   "id": "6a404c2a",
   "metadata": {},
   "outputs": [],
   "source": [
    "import cv2\n",
    "import numpy as np\n",
    "from pathlib import Path\n",
    "from matplotlib import pyplot as plt\n",
    "\n",
    "para_dir = Path(\"/Users/tom1484/Git/Parallel-Programming-2025/hw2/results/tmp/\")\n",
    "sequ_dir = Path(\"/Users/tom1484/Git/sequential/hw2/results/tmp/\")"
   ]
  },
  {
   "cell_type": "code",
   "execution_count": 2,
   "id": "a5baa7a9",
   "metadata": {},
   "outputs": [],
   "source": [
    "para_images = []\n",
    "for octave_id in range(8):\n",
    "    images = []\n",
    "    for img_id in range(8):\n",
    "        img_path = para_dir / f\"{octave_id}_{img_id}.png\"\n",
    "        if img_path.exists():\n",
    "            images.append(cv2.imread(str(img_path)))\n",
    "    \n",
    "    para_images.append(images)"
   ]
  },
  {
   "cell_type": "code",
   "execution_count": 3,
   "id": "7a5202a8",
   "metadata": {},
   "outputs": [],
   "source": [
    "sequ_images = []\n",
    "for octave_id in range(8):\n",
    "    images = []\n",
    "    for img_id in range(8):\n",
    "        img_path = sequ_dir / f\"{octave_id}_{img_id}.png\"\n",
    "        if img_path.exists():\n",
    "            images.append(cv2.imread(str(img_path)))\n",
    "\n",
    "    sequ_images.append(images)"
   ]
  },
  {
   "cell_type": "code",
   "execution_count": 4,
   "id": "011d330f",
   "metadata": {},
   "outputs": [
    {
     "data": {
      "text/plain": [
       "((964, 1248, 3), (964, 1248, 3))"
      ]
     },
     "execution_count": 4,
     "metadata": {},
     "output_type": "execute_result"
    }
   ],
   "source": [
    "para_images[0][0].shape, sequ_images[0][0].shape"
   ]
  },
  {
   "cell_type": "code",
   "execution_count": 5,
   "id": "65a7f6c8",
   "metadata": {},
   "outputs": [
    {
     "name": "stdout",
     "output_type": "stream",
     "text": [
      "Octave 0, Image 0 differs: diff = 9\n",
      "Octave 0, Image 1 differs: diff = 18\n",
      "Octave 0, Image 2 differs: diff = 12\n",
      "Octave 0, Image 3 differs: diff = 33\n",
      "Octave 0, Image 4 differs: diff = 30\n",
      "Octave 0, Image 5 differs: diff = 18\n",
      "Octave 0, Image 6 differs: diff = 21\n",
      "Octave 0, Image 7 differs: diff = 12\n",
      "Octave 1, Image 0 differs: diff = 6\n",
      "Octave 1, Image 3 differs: diff = 6\n",
      "Octave 1, Image 4 differs: diff = 3\n",
      "Octave 1, Image 5 differs: diff = 3\n",
      "Octave 1, Image 7 differs: diff = 9\n",
      "Octave 2, Image 7 differs: diff = 3\n",
      "Octave 3, Image 5 differs: diff = 3\n",
      "Octave 3, Image 6 differs: diff = 3\n",
      "Octave 7, Image 3 differs: diff = 6\n",
      "Octave 7, Image 4 differs: diff = 6\n",
      "Octave 7, Image 5 differs: diff = 87\n",
      "Octave 7, Image 6 differs: diff = 159\n",
      "Octave 7, Image 7 differs: diff = 447\n"
     ]
    }
   ],
   "source": [
    "N_OCTAVES = 8\n",
    "N_IMAGES = 8\n",
    "\n",
    "diffs = []\n",
    "for octave_id in range(N_OCTAVES):\n",
    "    octave_diffs = []\n",
    "    for img_id in range(N_IMAGES):\n",
    "        diff = cv2.absdiff(para_images[octave_id][img_id], sequ_images[octave_id][img_id])\n",
    "        octave_diffs.append(diff)\n",
    "    diffs.append(octave_diffs)\n",
    "\n",
    "for octave_id in range(N_OCTAVES):\n",
    "    for img_id in range(N_IMAGES):\n",
    "        if diffs[octave_id][img_id].sum() > 0:\n",
    "            print(f\"Octave {octave_id}, Image {img_id} differs: diff = {diffs[octave_id][img_id].sum()}\")"
   ]
  },
  {
   "cell_type": "code",
   "execution_count": 6,
   "id": "cffd6ae9",
   "metadata": {},
   "outputs": [
    {
     "data": {
      "image/png": "[encoded data removed]",
      "text/plain": [
       "<Figure size 640x480 with 1 Axes>"
      ]
     },
     "metadata": {},
     "output_type": "display_data"
    }
   ],
   "source": [
    "diff = diffs[0][0].astype(np.float32)\n",
    "plt.imshow(diff / diff.max())\n",
    "plt.show()"
   ]
  }
 ],
 "metadata": {
  "kernelspec": {
   "display_name": "hw2",
   "language": "python",
   "name": "python3"
  },
  "language_info": {
   "codemirror_mode": {
    "name": "ipython",
    "version": 3
   },
   "file_extension": ".py",
   "mimetype": "text/x-python",
   "name": "python",
   "nbconvert_exporter": "python",
   "pygments_lexer": "ipython3",
   "version": "3.12.12"
  }
 },
 "nbformat": 4,
 "nbformat_minor": 5
}
